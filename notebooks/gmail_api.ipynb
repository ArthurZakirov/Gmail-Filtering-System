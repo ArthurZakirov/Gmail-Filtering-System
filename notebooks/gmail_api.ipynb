{
 "cells": [
  {
   "cell_type": "code",
   "execution_count": 31,
   "metadata": {},
   "outputs": [],
   "source": [
    "import pandas as pd\n",
    "import numpy as np\n",
    "import base64\n",
    "import email\n",
    "import urllib\n",
    "import sys\n",
    "sys.path.append(\"..\")\n",
    "from src.data.make_dataset_api import get_df_from_gmail_api\n",
    "\n",
    "from googleapiclient.discovery import build\n",
    "from google.oauth2.credentials import Credentials\n",
    "\n",
    "\n",
    "token_path = 'config/arthurzak99_token.json'\n",
    "scope_access_keys = [\"auth/gmail.modify\"]\n",
    "SCOPES_ROOT = \"https://www.googleapis.com\"\n",
    "SCOPES = [urllib.parse.urljoin(SCOPES_ROOT, access_key) for access_key in scope_access_keys]\n",
    "creds = Credentials.from_authorized_user_file(token_path, SCOPES)\n",
    "service = build('gmail', 'v1', credentials=creds)\n",
    "df = get_df_from_gmail_api(service)"
   ]
  },
  {
   "cell_type": "code",
   "execution_count": null,
   "metadata": {},
   "outputs": [
    {
     "data": {
      "text/plain": [
       "{'id': '18ebdfdc83db8ff5',\n",
       " 'threadId': '18ebdfdc83db8ff5',\n",
       " 'labelIds': ['Label_9200702855229840563', 'INBOX']}"
      ]
     },
     "execution_count": 6,
     "metadata": {},
     "output_type": "execute_result"
    }
   ],
   "source": [
    "# set labels\n",
    "message_id = df.loc[df[\"Name\"] == \"Brendan Hendrickson\", \"ID\"].values[0]\n",
    "\n",
    "for label_id, label_name in label_mapping.items():\n",
    "    if label_name == \"Business Cold Outreach\":\n",
    "        new_label_id = label_id\n",
    "\n",
    "service.users().messages().modify(\n",
    "        userId=\"me\",\n",
    "        id=message_id,\n",
    "        body={'addLabelIds': [new_label_id]}  \n",
    "    ).execute()"
   ]
  }
 ],
 "metadata": {
  "kernelspec": {
   "display_name": "base",
   "language": "python",
   "name": "python3"
  },
  "language_info": {
   "codemirror_mode": {
    "name": "ipython",
    "version": 3
   },
   "file_extension": ".py",
   "mimetype": "text/x-python",
   "name": "python",
   "nbconvert_exporter": "python",
   "pygments_lexer": "ipython3",
   "version": "3.11.7"
  }
 },
 "nbformat": 4,
 "nbformat_minor": 2
}
